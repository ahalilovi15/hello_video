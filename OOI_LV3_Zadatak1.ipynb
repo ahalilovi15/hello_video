{
  "nbformat": 4,
  "nbformat_minor": 0,
  "metadata": {
    "colab": {
      "name": "OOI_LV3_Zadatak1.ipynb",
      "provenance": [],
      "collapsed_sections": [],
      "include_colab_link": true
    },
    "kernelspec": {
      "name": "julia-1.5",
      "display_name": "Julia 1.5"
    },
    "accelerator": "GPU"
  },
  "cells": [
    {
      "cell_type": "markdown",
      "metadata": {
        "id": "view-in-github",
        "colab_type": "text"
      },
      "source": [
        "<a href=\"https://colab.research.google.com/github/ahalilovi15/hello_video/blob/master/OOI_LV3_Zadatak1.ipynb\" target=\"_parent\"><img src=\"https://colab.research.google.com/assets/colab-badge.svg\" alt=\"Open In Colab\"/></a>"
      ]
    },
    {
      "cell_type": "markdown",
      "metadata": {
        "id": "TjavZvG9KwvF"
      },
      "source": [
        "### **Postavka Julie u Google Colab**\n",
        "\n",
        "Potrebno je preuzeti ovaj notebook, upload-ovati ga i pokrenuti kôd ispod prilikom kreiranja notebook-a za sve vježbe. Nakon pokretanja, potrebno je restartovati notebook. U *Runtime* kliknite na *Change runtime type* i odaberite Juliu i GPU. Sada možete koristiti Juliu za sve što radite.\n",
        "\n",
        "U slučaju da vam krene izbacivati greške radi gubitka trenutne sesije izvršite sve naredbe opet i restartujte notebook.\n",
        "\n",
        "\n"
      ]
    },
    {
      "cell_type": "code",
      "metadata": {
        "id": "oMSuTc3pDlHv",
        "colab": {
          "base_uri": "https://localhost:8080/"
        },
        "outputId": "04735af9-2f9a-4b0f-b334-f7f46df9c736"
      },
      "source": [
        "!curl -sSL \"https://julialang-s3.julialang.org/bin/linux/x64/1.5/julia-1.5.2-linux-x86_64.tar.gz\" -o julia.tar.gz\n",
        "!tar -xzf julia.tar.gz -C /usr --strip-components 1\n",
        "!rm -rf julia.tar.gz*\n",
        "!julia -e 'using Pkg; pkg\"add IJulia; precompile\"'\n",
        "!echo \"DONE\""
      ],
      "execution_count": null,
      "outputs": [
        {
          "output_type": "stream",
          "name": "stdout",
          "text": [
            "\u001b[32m\u001b[1m Installing\u001b[22m\u001b[39m known registries into `~/.julia`\n",
            "######################################################################## 100.0%\n",
            "\u001b[32m\u001b[1m      Added\u001b[22m\u001b[39m registry `General` to `~/.julia/registries/General`\n",
            "\u001b[32m\u001b[1m  Resolving\u001b[22m\u001b[39m package versions...\n",
            "\u001b[32m\u001b[1m  Installed\u001b[22m\u001b[39m ZMQ ──────────────── v1.2.1\n",
            "\u001b[32m\u001b[1m  Installed\u001b[22m\u001b[39m Zlib_jll ─────────── v1.2.11+18\n",
            "\u001b[32m\u001b[1m  Installed\u001b[22m\u001b[39m MozillaCACerts_jll ─ v2022.2.1+0\n",
            "\u001b[32m\u001b[1m  Installed\u001b[22m\u001b[39m ZeroMQ_jll ───────── v4.3.2+6\n",
            "\u001b[32m\u001b[1m  Installed\u001b[22m\u001b[39m LibCURL_jll ──────── v7.70.0+2\n",
            "\u001b[32m\u001b[1m  Installed\u001b[22m\u001b[39m Artifacts ────────── v1.3.0\n",
            "\u001b[32m\u001b[1m  Installed\u001b[22m\u001b[39m ArgTools ─────────── v1.1.1\n",
            "\u001b[32m\u001b[1m  Installed\u001b[22m\u001b[39m Conda ────────────── v1.7.0\n",
            "\u001b[32m\u001b[1m  Installed\u001b[22m\u001b[39m Preferences ──────── v1.2.5\n",
            "\u001b[32m\u001b[1m  Installed\u001b[22m\u001b[39m MbedTLS_jll ──────── v2.16.8+1\n",
            "\u001b[32m\u001b[1m  Installed\u001b[22m\u001b[39m JSON ─────────────── v0.21.3\n",
            "\u001b[32m\u001b[1m  Installed\u001b[22m\u001b[39m IJulia ───────────── v1.23.2\n",
            "\u001b[32m\u001b[1m  Installed\u001b[22m\u001b[39m MbedTLS ──────────── v1.0.3\n",
            "\u001b[32m\u001b[1m  Installed\u001b[22m\u001b[39m TOML ─────────────── v1.0.3\n",
            "\u001b[32m\u001b[1m  Installed\u001b[22m\u001b[39m Parsers ──────────── v2.2.3\n",
            "\u001b[32m\u001b[1m  Installed\u001b[22m\u001b[39m VersionParsing ───── v1.3.0\n",
            "\u001b[32m\u001b[1m  Installed\u001b[22m\u001b[39m LibSSH2_jll ──────── v1.9.0+3\n",
            "\u001b[32m\u001b[1m  Installed\u001b[22m\u001b[39m JLLWrappers ──────── v1.4.1\n",
            "\u001b[32m\u001b[1m  Installed\u001b[22m\u001b[39m libsodium_jll ────── v1.0.19+0\n",
            "\u001b[32m\u001b[1m  Installed\u001b[22m\u001b[39m NetworkOptions ───── v1.2.0\n",
            "\u001b[32m\u001b[1m  Installed\u001b[22m\u001b[39m nghttp2_jll ──────── v1.40.0+2\n",
            "\u001b[32m\u001b[1m  Installed\u001b[22m\u001b[39m Downloads ────────── v1.6.0\n",
            "\u001b[32m\u001b[1m  Installed\u001b[22m\u001b[39m LibCURL ──────────── v0.6.3\n",
            "\u001b[32m\u001b[1m  Installed\u001b[22m\u001b[39m SoftGlobalScope ──── v1.1.0\n",
            "\u001b[32m\u001b[1mDownloading\u001b[22m\u001b[39m artifact: ZeroMQ\n",
            "######################################################################## 100.0%\n",
            "\u001b[1A\u001b[2K\u001b[?25h\u001b[32m\u001b[1mDownloading\u001b[22m\u001b[39m artifact: Zlib\n",
            "######################################################################## 100.0%\n",
            "\u001b[1A\u001b[2K\u001b[?25h\u001b[32m\u001b[1mDownloading\u001b[22m\u001b[39m artifact: MozillaCACerts\n",
            "######################################################################## 100.0%\n",
            "\u001b[1A\u001b[2K\u001b[?25h\u001b[32m\u001b[1mDownloading\u001b[22m\u001b[39m artifact: LibCURL\n",
            "######################################################################## 100.0%\n",
            "\u001b[1A\u001b[2K\u001b[?25h\u001b[32m\u001b[1mDownloading\u001b[22m\u001b[39m artifact: MbedTLS\n",
            "######################################################################## 100.0%\n",
            "\u001b[1A\u001b[2K\u001b[?25h\u001b[32m\u001b[1mDownloading\u001b[22m\u001b[39m artifact: LibSSH2\n",
            "######################################################################## 100.0%\n",
            "\u001b[1A\u001b[2K\u001b[?25h\u001b[32m\u001b[1mDownloading\u001b[22m\u001b[39m artifact: libsodium\n",
            "######################################################################## 100.0%\n",
            "\u001b[1A\u001b[2K\u001b[?25h\u001b[32m\u001b[1mDownloading\u001b[22m\u001b[39m artifact: nghttp2\n",
            "######################################################################## 100.0%\n",
            "\u001b[1A\u001b[2K\u001b[?25h\u001b[32m\u001b[1mUpdating\u001b[22m\u001b[39m `~/.julia/environments/v1.5/Project.toml`\n",
            " \u001b[90m [7073ff75] \u001b[39m\u001b[92m+ IJulia v1.23.2\u001b[39m\n",
            "\u001b[32m\u001b[1mUpdating\u001b[22m\u001b[39m `~/.julia/environments/v1.5/Manifest.toml`\n",
            " \u001b[90m [0dad84c5] \u001b[39m\u001b[92m+ ArgTools v1.1.1\u001b[39m\n",
            " \u001b[90m [56f22d72] \u001b[39m\u001b[92m+ Artifacts v1.3.0\u001b[39m\n",
            " \u001b[90m [8f4d0f93] \u001b[39m\u001b[92m+ Conda v1.7.0\u001b[39m\n",
            " \u001b[90m [f43a241f] \u001b[39m\u001b[92m+ Downloads v1.6.0\u001b[39m\n",
            " \u001b[90m [7073ff75] \u001b[39m\u001b[92m+ IJulia v1.23.2\u001b[39m\n",
            " \u001b[90m [692b3bcd] \u001b[39m\u001b[92m+ JLLWrappers v1.4.1\u001b[39m\n",
            " \u001b[90m [682c06a0] \u001b[39m\u001b[92m+ JSON v0.21.3\u001b[39m\n",
            " \u001b[90m [b27032c2] \u001b[39m\u001b[92m+ LibCURL v0.6.3\u001b[39m\n",
            " \u001b[90m [deac9b47] \u001b[39m\u001b[92m+ LibCURL_jll v7.70.0+2\u001b[39m\n",
            " \u001b[90m [29816b5a] \u001b[39m\u001b[92m+ LibSSH2_jll v1.9.0+3\u001b[39m\n",
            " \u001b[90m [739be429] \u001b[39m\u001b[92m+ MbedTLS v1.0.3\u001b[39m\n",
            " \u001b[90m [c8ffd9c3] \u001b[39m\u001b[92m+ MbedTLS_jll v2.16.8+1\u001b[39m\n",
            " \u001b[90m [14a3606d] \u001b[39m\u001b[92m+ MozillaCACerts_jll v2022.2.1+0\u001b[39m\n",
            " \u001b[90m [ca575930] \u001b[39m\u001b[92m+ NetworkOptions v1.2.0\u001b[39m\n",
            " \u001b[90m [69de0a69] \u001b[39m\u001b[92m+ Parsers v2.2.3\u001b[39m\n",
            " \u001b[90m [21216c6a] \u001b[39m\u001b[92m+ Preferences v1.2.5\u001b[39m\n",
            " \u001b[90m [b85f4697] \u001b[39m\u001b[92m+ SoftGlobalScope v1.1.0\u001b[39m\n",
            " \u001b[90m [fa267f1f] \u001b[39m\u001b[92m+ TOML v1.0.3\u001b[39m\n",
            " \u001b[90m [81def892] \u001b[39m\u001b[92m+ VersionParsing v1.3.0\u001b[39m\n",
            " \u001b[90m [c2297ded] \u001b[39m\u001b[92m+ ZMQ v1.2.1\u001b[39m\n",
            " \u001b[90m [8f1865be] \u001b[39m\u001b[92m+ ZeroMQ_jll v4.3.2+6\u001b[39m\n",
            " \u001b[90m [83775a58] \u001b[39m\u001b[92m+ Zlib_jll v1.2.11+18\u001b[39m\n",
            " \u001b[90m [a9144af2] \u001b[39m\u001b[92m+ libsodium_jll v1.0.19+0\u001b[39m\n",
            " \u001b[90m [8e850ede] \u001b[39m\u001b[92m+ nghttp2_jll v1.40.0+2\u001b[39m\n",
            " \u001b[90m [2a0f44e3] \u001b[39m\u001b[92m+ Base64\u001b[39m\n",
            " \u001b[90m [ade2ca70] \u001b[39m\u001b[92m+ Dates\u001b[39m\n",
            " \u001b[90m [8ba89e20] \u001b[39m\u001b[92m+ Distributed\u001b[39m\n",
            " \u001b[90m [7b1f6079] \u001b[39m\u001b[92m+ FileWatching\u001b[39m\n",
            " \u001b[90m [b77e0a4c] \u001b[39m\u001b[92m+ InteractiveUtils\u001b[39m\n",
            " \u001b[90m [76f85450] \u001b[39m\u001b[92m+ LibGit2\u001b[39m\n",
            " \u001b[90m [8f399da3] \u001b[39m\u001b[92m+ Libdl\u001b[39m\n",
            " \u001b[90m [56ddb016] \u001b[39m\u001b[92m+ Logging\u001b[39m\n",
            " \u001b[90m [d6f4376e] \u001b[39m\u001b[92m+ Markdown\u001b[39m\n",
            " \u001b[90m [a63ad114] \u001b[39m\u001b[92m+ Mmap\u001b[39m\n",
            " \u001b[90m [44cfe95a] \u001b[39m\u001b[92m+ Pkg\u001b[39m\n",
            " \u001b[90m [de0858da] \u001b[39m\u001b[92m+ Printf\u001b[39m\n",
            " \u001b[90m [3fa0cd96] \u001b[39m\u001b[92m+ REPL\u001b[39m\n",
            " \u001b[90m [9a3f8284] \u001b[39m\u001b[92m+ Random\u001b[39m\n",
            " \u001b[90m [ea8e919c] \u001b[39m\u001b[92m+ SHA\u001b[39m\n",
            " \u001b[90m [9e88b42a] \u001b[39m\u001b[92m+ Serialization\u001b[39m\n",
            " \u001b[90m [6462fe0b] \u001b[39m\u001b[92m+ Sockets\u001b[39m\n",
            " \u001b[90m [8dfed614] \u001b[39m\u001b[92m+ Test\u001b[39m\n",
            " \u001b[90m [cf7118a7] \u001b[39m\u001b[92m+ UUIDs\u001b[39m\n",
            " \u001b[90m [4ec0a83e] \u001b[39m\u001b[92m+ Unicode\u001b[39m\n",
            "\u001b[32m\u001b[1m   Building\u001b[22m\u001b[39m Conda ─→ `~/.julia/packages/Conda/x2UxR/deps/build.log`\n",
            "\u001b[32m\u001b[1m   Building\u001b[22m\u001b[39m IJulia → `~/.julia/packages/IJulia/e8kqU/deps/build.log`\n",
            "\u001b[32m\u001b[1mPrecompiling\u001b[22m\u001b[39m project...\n",
            "DONE\n"
          ]
        }
      ]
    },
    {
      "cell_type": "code",
      "metadata": {
        "id": "9ABQlv9FhATu",
        "colab": {
          "base_uri": "https://localhost:8080/"
        },
        "outputId": "ae27b65e-f14e-418f-b21c-1f0a2b007813"
      },
      "source": [
        "using Pkg;\n",
        "Pkg.add(\"JuMP\")\n",
        "Pkg.add(\"GLPK\")"
      ],
      "execution_count": null,
      "outputs": [
        {
          "output_type": "stream",
          "name": "stderr",
          "text": [
            "\u001b[32m\u001b[1m   Updating\u001b[22m\u001b[39m registry at `~/.julia/registries/General`\n",
            "######################################################################### 100.0%\n",
            "\u001b[32m\u001b[1m  Resolving\u001b[22m\u001b[39m package versions...\n",
            "\u001b[32m\u001b[1m  Installed\u001b[22m\u001b[39m OpenLibm_jll ───────────────── v0.7.1+0\n",
            "\u001b[32m\u001b[1m  Installed\u001b[22m\u001b[39m Compat ─────────────────────── v3.42.0\n",
            "\u001b[32m\u001b[1m  Installed\u001b[22m\u001b[39m MacroTools ─────────────────── v0.5.9\n",
            "\u001b[32m\u001b[1m  Installed\u001b[22m\u001b[39m BenchmarkTools ─────────────── v1.3.1\n",
            "\u001b[32m\u001b[1m  Installed\u001b[22m\u001b[39m JuMP ───────────────────────── v0.22.3\n",
            "\u001b[32m\u001b[1m  Installed\u001b[22m\u001b[39m NaNMath ────────────────────── v0.3.7\n",
            "\u001b[32m\u001b[1m  Installed\u001b[22m\u001b[39m DiffRules ──────────────────── v1.10.0\n",
            "\u001b[32m\u001b[1m  Installed\u001b[22m\u001b[39m CodecBzip2 ─────────────────── v0.7.2\n",
            "\u001b[32m\u001b[1m  Installed\u001b[22m\u001b[39m MutableArithmetics ─────────── v0.3.3\n",
            "\u001b[32m\u001b[1m  Installed\u001b[22m\u001b[39m ChangesOfVariables ─────────── v0.1.2\n",
            "\u001b[32m\u001b[1m  Installed\u001b[22m\u001b[39m DocStringExtensions ────────── v0.8.6\n",
            "\u001b[32m\u001b[1m  Installed\u001b[22m\u001b[39m OrderedCollections ─────────── v1.4.1\n",
            "\u001b[32m\u001b[1m  Installed\u001b[22m\u001b[39m DataStructures ─────────────── v0.18.11\n",
            "\u001b[32m\u001b[1m  Installed\u001b[22m\u001b[39m CodecZlib ──────────────────── v0.7.0\n",
            "\u001b[32m\u001b[1m  Installed\u001b[22m\u001b[39m CompilerSupportLibraries_jll ─ v0.3.4+0\n",
            "\u001b[32m\u001b[1m  Installed\u001b[22m\u001b[39m Bzip2_jll ──────────────────── v1.0.7+0\n",
            "\u001b[32m\u001b[1m  Installed\u001b[22m\u001b[39m IrrationalConstants ────────── v0.1.1\n",
            "\u001b[32m\u001b[1m  Installed\u001b[22m\u001b[39m StaticArrays ───────────────── v1.3.6\n",
            "\u001b[32m\u001b[1m  Installed\u001b[22m\u001b[39m CommonSubexpressions ───────── v0.3.0\n",
            "\u001b[32m\u001b[1m  Installed\u001b[22m\u001b[39m InverseFunctions ───────────── v0.1.3\n",
            "\u001b[32m\u001b[1m  Installed\u001b[22m\u001b[39m TranscodingStreams ─────────── v0.9.6\n",
            "\u001b[32m\u001b[1m  Installed\u001b[22m\u001b[39m DiffResults ────────────────── v1.0.3\n",
            "\u001b[32m\u001b[1m  Installed\u001b[22m\u001b[39m ForwardDiff ────────────────── v0.10.25\n",
            "\u001b[32m\u001b[1m  Installed\u001b[22m\u001b[39m ChainRulesCore ─────────────── v1.12.2\n",
            "\u001b[32m\u001b[1m  Installed\u001b[22m\u001b[39m OpenSpecFun_jll ────────────── v0.5.3+4\n",
            "\u001b[32m\u001b[1m  Installed\u001b[22m\u001b[39m Calculus ───────────────────── v0.5.1\n",
            "\u001b[32m\u001b[1m  Installed\u001b[22m\u001b[39m SpecialFunctions ───────────── v2.1.4\n",
            "\u001b[32m\u001b[1m  Installed\u001b[22m\u001b[39m LogExpFunctions ────────────── v0.3.10\n",
            "\u001b[32m\u001b[1m  Installed\u001b[22m\u001b[39m MathOptInterface ───────────── v0.10.9\n",
            "\u001b[32m\u001b[1mUpdating\u001b[22m\u001b[39m `~/.julia/environments/v1.5/Project.toml`\n",
            " \u001b[90m [4076af6c] \u001b[39m\u001b[92m+ JuMP v0.22.3\u001b[39m\n",
            "\u001b[32m\u001b[1mUpdating\u001b[22m\u001b[39m `~/.julia/environments/v1.5/Manifest.toml`\n",
            " \u001b[90m [6e4b80f9] \u001b[39m\u001b[92m+ BenchmarkTools v1.3.1\u001b[39m\n",
            " \u001b[90m [6e34b625] \u001b[39m\u001b[92m+ Bzip2_jll v1.0.7+0\u001b[39m\n",
            " \u001b[90m [49dc2e85] \u001b[39m\u001b[92m+ Calculus v0.5.1\u001b[39m\n",
            " \u001b[90m [d360d2e6] \u001b[39m\u001b[92m+ ChainRulesCore v1.12.2\u001b[39m\n",
            " \u001b[90m [9e997f8a] \u001b[39m\u001b[92m+ ChangesOfVariables v0.1.2\u001b[39m\n",
            " \u001b[90m [523fee87] \u001b[39m\u001b[92m+ CodecBzip2 v0.7.2\u001b[39m\n",
            " \u001b[90m [944b1d66] \u001b[39m\u001b[92m+ CodecZlib v0.7.0\u001b[39m\n",
            " \u001b[90m [bbf7d656] \u001b[39m\u001b[92m+ CommonSubexpressions v0.3.0\u001b[39m\n",
            " \u001b[90m [34da2185] \u001b[39m\u001b[92m+ Compat v3.42.0\u001b[39m\n",
            " \u001b[90m [e66e0078] \u001b[39m\u001b[92m+ CompilerSupportLibraries_jll v0.3.4+0\u001b[39m\n",
            " \u001b[90m [864edb3b] \u001b[39m\u001b[92m+ DataStructures v0.18.11\u001b[39m\n",
            " \u001b[90m [163ba53b] \u001b[39m\u001b[92m+ DiffResults v1.0.3\u001b[39m\n",
            " \u001b[90m [b552c78f] \u001b[39m\u001b[92m+ DiffRules v1.10.0\u001b[39m\n",
            " \u001b[90m [ffbed154] \u001b[39m\u001b[92m+ DocStringExtensions v0.8.6\u001b[39m\n",
            " \u001b[90m [f6369f11] \u001b[39m\u001b[92m+ ForwardDiff v0.10.25\u001b[39m\n",
            " \u001b[90m [3587e190] \u001b[39m\u001b[92m+ InverseFunctions v0.1.3\u001b[39m\n",
            " \u001b[90m [92d709cd] \u001b[39m\u001b[92m+ IrrationalConstants v0.1.1\u001b[39m\n",
            " \u001b[90m [4076af6c] \u001b[39m\u001b[92m+ JuMP v0.22.3\u001b[39m\n",
            " \u001b[90m [2ab3a3ac] \u001b[39m\u001b[92m+ LogExpFunctions v0.3.10\u001b[39m\n",
            " \u001b[90m [1914dd2f] \u001b[39m\u001b[92m+ MacroTools v0.5.9\u001b[39m\n",
            " \u001b[90m [b8f27783] \u001b[39m\u001b[92m+ MathOptInterface v0.10.9\u001b[39m\n",
            " \u001b[90m [d8a4904e] \u001b[39m\u001b[92m+ MutableArithmetics v0.3.3\u001b[39m\n",
            " \u001b[90m [77ba4419] \u001b[39m\u001b[92m+ NaNMath v0.3.7\u001b[39m\n",
            " \u001b[90m [05823500] \u001b[39m\u001b[92m+ OpenLibm_jll v0.7.1+0\u001b[39m\n",
            " \u001b[90m [efe28fd5] \u001b[39m\u001b[92m+ OpenSpecFun_jll v0.5.3+4\u001b[39m\n",
            " \u001b[90m [bac558e1] \u001b[39m\u001b[92m+ OrderedCollections v1.4.1\u001b[39m\n",
            " \u001b[90m [276daf66] \u001b[39m\u001b[92m+ SpecialFunctions v2.1.4\u001b[39m\n",
            " \u001b[90m [90137ffa] \u001b[39m\u001b[92m+ StaticArrays v1.3.6\u001b[39m\n",
            " \u001b[90m [3bb67fe8] \u001b[39m\u001b[92m+ TranscodingStreams v0.9.6\u001b[39m\n",
            " \u001b[90m [8bb1440f] \u001b[39m\u001b[92m+ DelimitedFiles\u001b[39m\n",
            " \u001b[90m [37e2e46d] \u001b[39m\u001b[92m+ LinearAlgebra\u001b[39m\n",
            " \u001b[90m [9abbd945] \u001b[39m\u001b[92m+ Profile\u001b[39m\n",
            " \u001b[90m [1a1011a3] \u001b[39m\u001b[92m+ SharedArrays\u001b[39m\n",
            " \u001b[90m [2f01184e] \u001b[39m\u001b[92m+ SparseArrays\u001b[39m\n",
            " \u001b[90m [10745b16] \u001b[39m\u001b[92m+ Statistics\u001b[39m\n",
            "\u001b[32m\u001b[1m  Resolving\u001b[22m\u001b[39m package versions...\n",
            "\u001b[32m\u001b[1m  Installed\u001b[22m\u001b[39m GLPK_jll ─────── v5.0.0+0\n",
            "\u001b[32m\u001b[1m  Installed\u001b[22m\u001b[39m GMP_jll ──────── v6.1.2+6\n",
            "\u001b[32m\u001b[1m  Installed\u001b[22m\u001b[39m CEnum ────────── v0.4.1\n",
            "\u001b[32m\u001b[1m  Installed\u001b[22m\u001b[39m BinaryProvider ─ v0.5.10\n",
            "\u001b[32m\u001b[1m  Installed\u001b[22m\u001b[39m GLPK ─────────── v0.15.3\n",
            "\u001b[32m\u001b[1mUpdating\u001b[22m\u001b[39m `~/.julia/environments/v1.5/Project.toml`\n",
            " \u001b[90m [60bf3e95] \u001b[39m\u001b[92m+ GLPK v0.15.3\u001b[39m\n",
            "\u001b[32m\u001b[1mUpdating\u001b[22m\u001b[39m `~/.julia/environments/v1.5/Manifest.toml`\n",
            " \u001b[90m [b99e7846] \u001b[39m\u001b[92m+ BinaryProvider v0.5.10\u001b[39m\n",
            " \u001b[90m [fa961155] \u001b[39m\u001b[92m+ CEnum v0.4.1\u001b[39m\n",
            " \u001b[90m [60bf3e95] \u001b[39m\u001b[92m+ GLPK v0.15.3\u001b[39m\n",
            " \u001b[90m [e8aa6df9] \u001b[39m\u001b[92m+ GLPK_jll v5.0.0+0\u001b[39m\n",
            " \u001b[90m [781609d7] \u001b[39m\u001b[92m+ GMP_jll v6.1.2+6\u001b[39m\n",
            "\u001b[32m\u001b[1m   Building\u001b[22m\u001b[39m GLPK → `~/.julia/packages/GLPK/az2oT/deps/build.log`\n"
          ]
        }
      ]
    },
    {
      "cell_type": "code",
      "metadata": {
        "id": "eSzd_1nuhGip",
        "colab": {
          "base_uri": "https://localhost:8080/"
        },
        "outputId": "9fe84aa0-c48e-4a7d-aba9-c072afad06b9"
      },
      "source": [
        "using JuMP,GLPK"
      ],
      "execution_count": null,
      "outputs": [
        {
          "output_type": "stream",
          "name": "stderr",
          "text": [
            "┌ Info: Precompiling JuMP [4076af6c-e467-56ae-b986-b466b2749572]\n",
            "└ @ Base loading.jl:1278\n",
            "┌ Info: Precompiling GLPK [60bf3e95-4087-53dc-ae20-288a0d20c6a6]\n",
            "└ @ Base loading.jl:1278\n"
          ]
        }
      ]
    },
    {
      "cell_type": "markdown",
      "source": [
        "# **Zadatak 1a**"
      ],
      "metadata": {
        "id": "uy7yQ35uKbRy"
      }
    },
    {
      "cell_type": "markdown",
      "source": [
        "**Problem P**"
      ],
      "metadata": {
        "id": "XvLwwK2bKlzI"
      }
    },
    {
      "cell_type": "code",
      "metadata": {
        "colab": {
          "base_uri": "https://localhost:8080/"
        },
        "id": "JDW-bTu6X5E4",
        "outputId": "40618f5d-cf07-4cfc-8419-ec86f0e5d1c9"
      },
      "source": [
        "m=Model(GLPK.Optimizer)"
      ],
      "execution_count": null,
      "outputs": [
        {
          "output_type": "execute_result",
          "data": {
            "text/plain": [
              "A JuMP Model\n",
              "Feasibility problem with:\n",
              "Variables: 0\n",
              "Model mode: AUTOMATIC\n",
              "CachingOptimizer state: EMPTY_OPTIMIZER\n",
              "Solver name: GLPK"
            ]
          },
          "metadata": {},
          "execution_count": 24
        }
      ]
    },
    {
      "cell_type": "code",
      "metadata": {
        "colab": {
          "base_uri": "https://localhost:8080/",
          "height": 39
        },
        "id": "VV9gLnVcX5ty",
        "outputId": "12f92758-9338-461f-87cd-30b16c2c57b0"
      },
      "source": [
        "@variable(m,0<=x1<=1)\n",
        "@variable(m,0<=x2<=1)\n",
        "@variable(m,0<=x3<=1)\n",
        "@variable(m,0<=x4<=1)\n",
        "@variable(m,0<=x5<=1)"
      ],
      "execution_count": null,
      "outputs": [
        {
          "output_type": "execute_result",
          "data": {
            "text/plain": [
              "x5"
            ],
            "text/latex": "$$ x5 $$"
          },
          "metadata": {},
          "execution_count": 25
        }
      ]
    },
    {
      "cell_type": "code",
      "metadata": {
        "colab": {
          "base_uri": "https://localhost:8080/",
          "height": 39
        },
        "id": "dkZi96_4YJIo",
        "outputId": "ddeb0f13-29c6-4f10-a338-181732fb0136"
      },
      "source": [
        "@objective(m,Max,8x1-6x2+10x3-2x4+4x5)"
      ],
      "execution_count": null,
      "outputs": [
        {
          "output_type": "execute_result",
          "data": {
            "text/plain": [
              "8 x1 - 6 x2 + 10 x3 - 2 x4 + 4 x5"
            ],
            "text/latex": "$$ 8 x1 - 6 x2 + 10 x3 - 2 x4 + 4 x5 $$"
          },
          "metadata": {},
          "execution_count": 26
        }
      ]
    },
    {
      "cell_type": "code",
      "metadata": {
        "colab": {
          "base_uri": "https://localhost:8080/",
          "height": 35
        },
        "id": "nXY1lABZYi1R",
        "outputId": "16b75203-70b6-43f9-db1d-38987a298d3e"
      },
      "source": [
        "@constraint(m,constraint1,4x1-5x2+7x3-2x4+3x5<=6)\n",
        "@constraint(m,constraint2,2x1-4x2+2x3-x4+x5<=0)"
      ],
      "execution_count": null,
      "outputs": [
        {
          "output_type": "execute_result",
          "data": {
            "text/plain": [
              "constraint2 : 2 x1 - 4 x2 + 2 x3 - x4 + x5 ≤ 0.0"
            ],
            "text/latex": "constraint2 : $ 2 x1 - 4 x2 + 2 x3 - x4 + x5 \\leq 0.0 $"
          },
          "metadata": {},
          "execution_count": 27
        }
      ]
    },
    {
      "cell_type": "code",
      "metadata": {
        "id": "iX3ZMdS0hyRH"
      },
      "source": [
        "optimize!(m)"
      ],
      "execution_count": null,
      "outputs": []
    },
    {
      "cell_type": "code",
      "metadata": {
        "id": "Gz0OnFQ2iL4G",
        "colab": {
          "base_uri": "https://localhost:8080/"
        },
        "outputId": "cfc3cf75-3431-4ced-eaad-97fdc015484d"
      },
      "source": [
        "termination_status(m)"
      ],
      "execution_count": null,
      "outputs": [
        {
          "output_type": "execute_result",
          "data": {
            "text/plain": [
              "OPTIMAL::TerminationStatusCode = 1"
            ]
          },
          "metadata": {},
          "execution_count": 29
        }
      ]
    },
    {
      "cell_type": "code",
      "metadata": {
        "colab": {
          "base_uri": "https://localhost:8080/"
        },
        "id": "yDUw6LfLZOZk",
        "outputId": "ce5bc50e-81fe-41e9-b1d3-522afac6552d"
      },
      "source": [
        "objective_value(m)"
      ],
      "execution_count": null,
      "outputs": [
        {
          "output_type": "execute_result",
          "data": {
            "text/plain": [
              "12.666666666666666"
            ]
          },
          "metadata": {},
          "execution_count": 30
        }
      ]
    },
    {
      "cell_type": "code",
      "metadata": {
        "id": "qaZC6GpCh2Ud",
        "colab": {
          "base_uri": "https://localhost:8080/"
        },
        "outputId": "23dc432c-4abf-44c1-a10f-3d19cc3dd1a2"
      },
      "source": [
        "println(\"Rješenja:\")\n",
        "println(\"x1 = \", value(x1))\n",
        "println(\"x2 = \", value(x2))\n",
        "println(\"x3 = \", value(x3))\n",
        "println(\"x4 = \", value(x4))\n",
        "println(\"x5 = \", value(x5))\n",
        "println(\"Vrijednost cilja:\")\n",
        "println(objective_value(m))"
      ],
      "execution_count": null,
      "outputs": [
        {
          "output_type": "stream",
          "name": "stdout",
          "text": [
            "Rješenja:\n",
            "x1 = 1.0\n",
            "x2 = 1.0\n",
            "x3 = 1.0\n",
            "x4 = 1.0\n",
            "x5 = 0.6666666666666666\n",
            "Vrijednost cilja:\n",
            "12.666666666666666\n"
          ]
        }
      ]
    },
    {
      "cell_type": "markdown",
      "source": [
        "**Problem P1**"
      ],
      "metadata": {
        "id": "ajjl4mZbKxLx"
      }
    },
    {
      "cell_type": "code",
      "metadata": {
        "id": "BwWDBz1U58TC"
      },
      "source": [
        "m1=Model(GLPK.Optimizer)\n",
        "@variable(m1,0<=x1<=1)\n",
        "@variable(m1,0<=x2<=1)\n",
        "@variable(m1,0<=x3<=1)\n",
        "@variable(m1,0<=x4<=1)\n",
        "@variable(m1,0<=x5<=1)\n",
        "@objective(m1,Max,8x1-6x2+10x3-2x4+4x5)\n",
        "@constraint(m1,constraint1,4x1-5x2+7x3-2x4+3x5<=6)\n",
        "@constraint(m1,constraint2,2x1-4x2+2x3-x4+x5<=0)\n",
        "@constraint(m1,ubx5,x5<=0)\n",
        "optimize!(m1)"
      ],
      "execution_count": null,
      "outputs": []
    },
    {
      "cell_type": "code",
      "source": [
        "termination_status(m1)"
      ],
      "metadata": {
        "colab": {
          "base_uri": "https://localhost:8080/"
        },
        "id": "rzyzHIEkm56M",
        "outputId": "097195d6-7b35-4ed3-ad3c-cd2caa87e829"
      },
      "execution_count": null,
      "outputs": [
        {
          "output_type": "execute_result",
          "data": {
            "text/plain": [
              "OPTIMAL::TerminationStatusCode = 1"
            ]
          },
          "metadata": {},
          "execution_count": 4
        }
      ]
    },
    {
      "cell_type": "code",
      "source": [
        "println(\"Rješenja:\")\n",
        "println(\"x1 = \", value(x1))\n",
        "println(\"x2 = \", value(x2))\n",
        "println(\"x3 = \", value(x3))\n",
        "println(\"x4 = \", value(x4))\n",
        "println(\"x5 = \", value(x5))\n",
        "println(\"Vrijednost cilja:\")\n",
        "println(objective_value(m1))"
      ],
      "metadata": {
        "colab": {
          "base_uri": "https://localhost:8080/"
        },
        "id": "b_V83Nwkm8xB",
        "outputId": "9f94f9ce-43ed-4078-97c4-6dbd5a4df30e"
      },
      "execution_count": null,
      "outputs": [
        {
          "output_type": "stream",
          "name": "stdout",
          "text": [
            "Rješenja:\n",
            "x1 = 1.0\n",
            "x2 = 1.0\n",
            "x3 = 1.0\n",
            "x4 = 0.0\n",
            "x5 = 0.0\n",
            "Vrijednost cilja:\n",
            "12.0\n"
          ]
        }
      ]
    },
    {
      "cell_type": "markdown",
      "source": [
        "**Problem P2**"
      ],
      "metadata": {
        "id": "8-yl7EyNK2je"
      }
    },
    {
      "cell_type": "code",
      "source": [
        "m2=Model(GLPK.Optimizer)\n",
        "@variable(m2,0<=x1<=1)\n",
        "@variable(m2,0<=x2<=1)\n",
        "@variable(m2,0<=x3<=1)\n",
        "@variable(m2,0<=x4<=1)\n",
        "@variable(m2,0<=x5<=1)\n",
        "@objective(m2,Max,8x1-6x2+10x3-2x4+4x5)\n",
        "@constraint(m2,constraint1,4x1-5x2+7x3-2x4+3x5<=6)\n",
        "@constraint(m2,constraint2,2x1-4x2+2x3-x4+x5<=0)\n",
        "@constraint(m2,lbx5,x5>=1)\n",
        "optimize!(m2)"
      ],
      "metadata": {
        "id": "DnwGaQN0xAJ8"
      },
      "execution_count": null,
      "outputs": []
    },
    {
      "cell_type": "code",
      "source": [
        "termination_status(m2)"
      ],
      "metadata": {
        "colab": {
          "base_uri": "https://localhost:8080/"
        },
        "id": "j16vrODIIhkA",
        "outputId": "fcfaf091-8b89-410c-d931-4beb1205ed83"
      },
      "execution_count": null,
      "outputs": [
        {
          "output_type": "execute_result",
          "data": {
            "text/plain": [
              "OPTIMAL::TerminationStatusCode = 1"
            ]
          },
          "metadata": {},
          "execution_count": 8
        }
      ]
    },
    {
      "cell_type": "code",
      "source": [
        "println(\"Rješenja:\")\n",
        "println(\"x1 = \", value(x1))\n",
        "println(\"x2 = \", value(x2))\n",
        "println(\"x3 = \", value(x3))\n",
        "println(\"x4 = \", value(x4))\n",
        "println(\"x5 = \", value(x5))\n",
        "println(\"Vrijednost cilja:\")\n",
        "println(objective_value(m2))"
      ],
      "metadata": {
        "colab": {
          "base_uri": "https://localhost:8080/"
        },
        "id": "BP2B0r5oIjxl",
        "outputId": "277f7ec6-316f-4a5d-99f9-774269e8fe69"
      },
      "execution_count": null,
      "outputs": [
        {
          "output_type": "stream",
          "name": "stdout",
          "text": [
            "Rješenja:\n",
            "x1 = 1.0\n",
            "x2 = 1.0\n",
            "x3 = 0.8571428571428572\n",
            "x4 = 1.0\n",
            "x5 = 1.0\n",
            "Vrijednost cilja:\n",
            "12.571428571428573\n"
          ]
        }
      ]
    },
    {
      "cell_type": "markdown",
      "source": [
        "**Problem P21**"
      ],
      "metadata": {
        "id": "Fpj6OkIWK9aj"
      }
    },
    {
      "cell_type": "code",
      "source": [
        "m21=Model(GLPK.Optimizer)\n",
        "@variable(m21,0<=x1<=1)\n",
        "@variable(m21,0<=x2<=1)\n",
        "@variable(m21,0<=x3<=1)\n",
        "@variable(m21,0<=x4<=1)\n",
        "@variable(m21,0<=x5<=1)\n",
        "@objective(m21,Max,8x1-6x2+10x3-2x4+4x5)\n",
        "@constraint(m21,constraint1,4x1-5x2+7x3-2x4+3x5<=6)\n",
        "@constraint(m21,constraint2,2x1-4x2+2x3-x4+x5<=0)\n",
        "@constraint(m21,lbx5,x5>=1)\n",
        "@constraint(m21,ubx3,x3<=0)\n",
        "optimize!(m21)"
      ],
      "metadata": {
        "id": "oEAg7gUWIzct"
      },
      "execution_count": null,
      "outputs": []
    },
    {
      "cell_type": "code",
      "source": [
        "termination_status(m21)"
      ],
      "metadata": {
        "colab": {
          "base_uri": "https://localhost:8080/"
        },
        "id": "jq4bzBLOJUzR",
        "outputId": "8e9b45e4-1c57-4e6a-a174-eaeeb5bb2f73"
      },
      "execution_count": null,
      "outputs": [
        {
          "output_type": "execute_result",
          "data": {
            "text/plain": [
              "OPTIMAL::TerminationStatusCode = 1"
            ]
          },
          "metadata": {},
          "execution_count": 11
        }
      ]
    },
    {
      "cell_type": "code",
      "source": [
        "println(\"Rješenja:\")\n",
        "println(\"x1 = \", value(x1))\n",
        "println(\"x2 = \", value(x2))\n",
        "println(\"x3 = \", value(x3))\n",
        "println(\"x4 = \", value(x4))\n",
        "println(\"x5 = \", value(x5))\n",
        "println(\"Vrijednost cilja:\")\n",
        "println(objective_value(m21))"
      ],
      "metadata": {
        "colab": {
          "base_uri": "https://localhost:8080/"
        },
        "id": "2PoHPSMAJXIW",
        "outputId": "13f7b546-cdb4-4526-cda3-16dcbaada5c2"
      },
      "execution_count": null,
      "outputs": [
        {
          "output_type": "stream",
          "name": "stdout",
          "text": [
            "Rješenja:\n",
            "x1 = 1.0\n",
            "x2 = 0.75\n",
            "x3 = 0.0\n",
            "x4 = 0.0\n",
            "x5 = 1.0\n",
            "Vrijednost cilja:\n",
            "7.5\n"
          ]
        }
      ]
    },
    {
      "cell_type": "markdown",
      "source": [
        "**Problem P22**"
      ],
      "metadata": {
        "id": "T7Nb9nS9LCVd"
      }
    },
    {
      "cell_type": "code",
      "source": [
        "m22=Model(GLPK.Optimizer)\n",
        "@variable(m22,0<=x1<=1)\n",
        "@variable(m22,0<=x2<=1)\n",
        "@variable(m22,0<=x3<=1)\n",
        "@variable(m22,0<=x4<=1)\n",
        "@variable(m22,0<=x5<=1)\n",
        "@objective(m22,Max,8x1-6x2+10x3-2x4+4x5)\n",
        "@constraint(m22,constraint1,4x1-5x2+7x3-2x4+3x5<=6)\n",
        "@constraint(m22,constraint2,2x1-4x2+2x3-x4+x5<=0)\n",
        "@constraint(m22,lbx5,x5>=1)\n",
        "@constraint(m22,lbx3,x3>=1)\n",
        "optimize!(m22)"
      ],
      "metadata": {
        "id": "0yKDjK1iJHa6"
      },
      "execution_count": null,
      "outputs": []
    },
    {
      "cell_type": "code",
      "source": [
        "termination_status(m22)"
      ],
      "metadata": {
        "colab": {
          "base_uri": "https://localhost:8080/"
        },
        "id": "8szqHNRmJoNL",
        "outputId": "3ea18f91-1ca5-4ce9-ff79-11ea712e6f7d"
      },
      "execution_count": null,
      "outputs": [
        {
          "output_type": "execute_result",
          "data": {
            "text/plain": [
              "OPTIMAL::TerminationStatusCode = 1"
            ]
          },
          "metadata": {},
          "execution_count": 14
        }
      ]
    },
    {
      "cell_type": "code",
      "source": [
        "println(\"Rješenja:\")\n",
        "println(\"x1 = \", value(x1))\n",
        "println(\"x2 = \", value(x2))\n",
        "println(\"x3 = \", value(x3))\n",
        "println(\"x4 = \", value(x4))\n",
        "println(\"x5 = \", value(x5))\n",
        "println(\"Vrijednost cilja:\")\n",
        "println(objective_value(m22))"
      ],
      "metadata": {
        "colab": {
          "base_uri": "https://localhost:8080/"
        },
        "id": "2ntZ-y3lJlzp",
        "outputId": "fb44f782-c397-4ca5-ff0a-39bfe451b5eb"
      },
      "execution_count": null,
      "outputs": [
        {
          "output_type": "stream",
          "name": "stdout",
          "text": [
            "Rješenja:\n",
            "x1 = 0.7499999999999999\n",
            "x2 = 1.0\n",
            "x3 = 0.9999999999999999\n",
            "x4 = 1.0\n",
            "x5 = 1.0000000000000002\n",
            "Vrijednost cilja:\n",
            "11.999999999999996\n"
          ]
        }
      ]
    },
    {
      "cell_type": "markdown",
      "source": [
        "# **Zadatak 1b**"
      ],
      "metadata": {
        "id": "MHaS-VG6KNNY"
      }
    },
    {
      "cell_type": "code",
      "source": [
        "m=Model(GLPK.Optimizer)\n",
        "@variable(m,x1>=0)\n",
        "@variable(m,x2>=0)\n",
        "@objective(m,Max,3x1+2x2)\n",
        "@constraint(m,constraint1,4x1+2x2<=15)\n",
        "@constraint(m,constraint2,x1+2x2<=18)\n",
        "@constraint(m,constraint3,x1+x2<=5)\n",
        "optimize!(m)\n",
        "termination_status(m)"
      ],
      "metadata": {
        "colab": {
          "base_uri": "https://localhost:8080/"
        },
        "id": "uBxJQj_jKReg",
        "outputId": "43d26f10-4cde-4361-e31a-d9a13aefe003"
      },
      "execution_count": null,
      "outputs": [
        {
          "output_type": "execute_result",
          "data": {
            "text/plain": [
              "OPTIMAL::TerminationStatusCode = 1"
            ]
          },
          "metadata": {},
          "execution_count": 17
        }
      ]
    },
    {
      "cell_type": "code",
      "source": [
        "println(\"Rješenja:\")\n",
        "println(\"x1 = \", value(x1))\n",
        "println(\"x2 = \", value(x2))\n",
        "println(\"Vrijednost cilja:\")\n",
        "println(objective_value(m))"
      ],
      "metadata": {
        "colab": {
          "base_uri": "https://localhost:8080/"
        },
        "id": "kTkfEc1YL3-t",
        "outputId": "7b6be1ef-8664-4de3-83a1-fad8d978b4f9"
      },
      "execution_count": null,
      "outputs": [
        {
          "output_type": "stream",
          "name": "stdout",
          "text": [
            "Rješenja:\n",
            "x1 = 2.5\n",
            "x2 = 2.5\n",
            "Vrijednost cilja:\n",
            "12.5\n"
          ]
        }
      ]
    },
    {
      "cell_type": "code",
      "source": [
        "m1=Model(GLPK.Optimizer)\n",
        "@variable(m1,x1>=0)\n",
        "@variable(m1,x2>=0)\n",
        "@objective(m1,Max,3x1+2x2)\n",
        "@constraint(m1,constraint1,4x1+2x2<=15)\n",
        "@constraint(m1,constraint2,x1+2x2<=18)\n",
        "@constraint(m1,constraint3,x1+x2<=5)\n",
        "@constraint(m1,ubx1,x1<=2)\n",
        "optimize!(m1)\n",
        "termination_status(m1)"
      ],
      "metadata": {
        "colab": {
          "base_uri": "https://localhost:8080/"
        },
        "id": "bdcPp7XaMS7U",
        "outputId": "a0fa8c01-e276-4716-f40b-05f30d6bbbf3"
      },
      "execution_count": null,
      "outputs": [
        {
          "output_type": "execute_result",
          "data": {
            "text/plain": [
              "OPTIMAL::TerminationStatusCode = 1"
            ]
          },
          "metadata": {},
          "execution_count": 19
        }
      ]
    },
    {
      "cell_type": "code",
      "source": [
        "println(\"Rješenja:\")\n",
        "println(\"x1 = \", value(x1))\n",
        "println(\"x2 = \", value(x2))\n",
        "println(\"Vrijednost cilja:\")\n",
        "println(objective_value(m1))"
      ],
      "metadata": {
        "colab": {
          "base_uri": "https://localhost:8080/"
        },
        "id": "7TDx8b3aMnb9",
        "outputId": "1a5377a9-eee6-4cda-cfef-842e3d6170e6"
      },
      "execution_count": null,
      "outputs": [
        {
          "output_type": "stream",
          "name": "stdout",
          "text": [
            "Rješenja:\n",
            "x1 = 2.0\n",
            "x2 = 3.0\n",
            "Vrijednost cilja:\n",
            "12.0\n"
          ]
        }
      ]
    },
    {
      "cell_type": "code",
      "source": [
        "m2=Model(GLPK.Optimizer)\n",
        "@variable(m2,x1>=0)\n",
        "@variable(m2,x2>=0)\n",
        "@objective(m2,Max,3x1+2x2)\n",
        "@constraint(m2,constraint1,4x1+2x2<=15)\n",
        "@constraint(m2,constraint2,x1+2x2<=18)\n",
        "@constraint(m2,constraint3,x1+x2<=5)\n",
        "@constraint(m2,lbx1,x1>=3)\n",
        "optimize!(m2)\n",
        "termination_status(m2)"
      ],
      "metadata": {
        "colab": {
          "base_uri": "https://localhost:8080/"
        },
        "id": "OJ-dxn9lMqAo",
        "outputId": "dc53ec41-e613-40b2-fedc-8c14a04ee901"
      },
      "execution_count": null,
      "outputs": [
        {
          "output_type": "execute_result",
          "data": {
            "text/plain": [
              "OPTIMAL::TerminationStatusCode = 1"
            ]
          },
          "metadata": {},
          "execution_count": 21
        }
      ]
    },
    {
      "cell_type": "code",
      "source": [
        "println(\"Rješenja:\")\n",
        "println(\"x1 = \", value(x1))\n",
        "println(\"x2 = \", value(x2))\n",
        "println(\"Vrijednost cilja:\")\n",
        "println(objective_value(m2))"
      ],
      "metadata": {
        "colab": {
          "base_uri": "https://localhost:8080/"
        },
        "id": "jGe7y1SPMw-S",
        "outputId": "0762fbf4-50da-49c9-ac1d-86641c252166"
      },
      "execution_count": null,
      "outputs": [
        {
          "output_type": "stream",
          "name": "stdout",
          "text": [
            "Rješenja:\n",
            "x1 = 3.0\n",
            "x2 = 1.5\n",
            "Vrijednost cilja:\n",
            "12.0\n"
          ]
        }
      ]
    },
    {
      "cell_type": "code",
      "source": [
        "m21=Model(GLPK.Optimizer)\n",
        "@variable(m21,x1>=0)\n",
        "@variable(m21,x2>=0)\n",
        "@objective(m21,Max,3x1+2x2)\n",
        "@constraint(m21,constraint1,4x1+2x2<=15)\n",
        "@constraint(m21,constraint2,x1+2x2<=18)\n",
        "@constraint(m21,constraint3,x1+x2<=5)\n",
        "@constraint(m21,lbx1,x1>=3)\n",
        "@constraint(m21,ubx2,x2<=1)\n",
        "optimize!(m21)\n",
        "termination_status(m21)"
      ],
      "metadata": {
        "colab": {
          "base_uri": "https://localhost:8080/"
        },
        "id": "CWG0wUnUM9hc",
        "outputId": "434d7b86-f15d-409e-817f-9aa8e90f2223"
      },
      "execution_count": null,
      "outputs": [
        {
          "output_type": "execute_result",
          "data": {
            "text/plain": [
              "OPTIMAL::TerminationStatusCode = 1"
            ]
          },
          "metadata": {},
          "execution_count": 24
        }
      ]
    },
    {
      "cell_type": "code",
      "source": [
        "println(\"Rješenja:\")\n",
        "println(\"x1 = \", value(x1))\n",
        "println(\"x2 = \", value(x2))\n",
        "println(\"Vrijednost cilja:\")\n",
        "println(objective_value(m21))"
      ],
      "metadata": {
        "colab": {
          "base_uri": "https://localhost:8080/"
        },
        "id": "48yz09tZNHCs",
        "outputId": "f9d647d9-3451-4522-9b4e-2f3f4c37fdda"
      },
      "execution_count": null,
      "outputs": [
        {
          "output_type": "stream",
          "name": "stdout",
          "text": [
            "Rješenja:\n",
            "x1 = 3.25\n",
            "x2 = 1.0\n",
            "Vrijednost cilja:\n",
            "11.75\n"
          ]
        }
      ]
    },
    {
      "cell_type": "code",
      "source": [
        "m22=Model(GLPK.Optimizer)\n",
        "@variable(m22,x1>=0)\n",
        "@variable(m22,x2>=0)\n",
        "@objective(m22,Max,3x1+2x2)\n",
        "@constraint(m22,constraint1,4x1+2x2<=15)\n",
        "@constraint(m22,constraint2,x1+2x2<=18)\n",
        "@constraint(m22,constraint3,x1+x2<=5)\n",
        "@constraint(m22,lbx1,x1>=3)\n",
        "@constraint(m22,lbx2,x2>=2)\n",
        "optimize!(m22)\n",
        "termination_status(m22)"
      ],
      "metadata": {
        "colab": {
          "base_uri": "https://localhost:8080/"
        },
        "id": "d7Kwx8RrNOj6",
        "outputId": "79c15805-092b-4da3-e0a7-4d5ac91868ae"
      },
      "execution_count": null,
      "outputs": [
        {
          "output_type": "execute_result",
          "data": {
            "text/plain": [
              "INFEASIBLE::TerminationStatusCode = 2"
            ]
          },
          "metadata": {},
          "execution_count": 26
        }
      ]
    }
  ]
}